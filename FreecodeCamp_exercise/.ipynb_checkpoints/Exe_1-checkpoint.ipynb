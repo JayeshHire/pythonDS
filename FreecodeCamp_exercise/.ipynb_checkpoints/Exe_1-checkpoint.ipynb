{
 "cells": [
  {
   "cell_type": "markdown",
   "id": "5ef01f6d",
   "metadata": {},
   "source": [
    "## This notebook contains exercises from the freecodecamp python for everyone course"
   ]
  },
  {
   "cell_type": "markdown",
   "id": "eb943a64",
   "metadata": {},
   "source": [
    "### 1. Rewrite your pay computation to give employee 1.5 times the hourly rate if he has worked for more than 40 hours.\n",
    "#### _Let following be the input and output be following constraints_\n",
    "#### 1.Take input for no. of hours worked\n",
    "#### 2. Take input for hourly rate\n",
    "#### 3. Output the total amount to be paid to employee"
   ]
  },
  {
   "cell_type": "code",
   "execution_count": 18,
   "id": "82ec0f23",
   "metadata": {},
   "outputs": [
    {
     "name": "stdout",
     "output_type": "stream",
     "text": [
      "Enter the no of hours: 43\n",
      "Enter the hourly rate: 4\n",
      "salary :258.0\n"
     ]
    }
   ],
   "source": [
    "#function to count no of arguments of a function\n",
    "#This function is not much used in the code below\n",
    "def count_args(*args):\n",
    "    i = 0\n",
    "    while(1):\n",
    "        try :\n",
    "            temp = args[i]\n",
    "            if temp != None:\n",
    "                i += 1\n",
    "                print(temp)\n",
    "        except:\n",
    "            break\n",
    "    return i\n",
    "\n",
    "\n",
    "'''\n",
    "this function takes func as an input \n",
    "which is a function which gets input from \n",
    "the user through CLI and returns list of \n",
    "those values. \n",
    "check_int function checks if those values \n",
    "are convertible to integer format and if they \n",
    "are convertible it converts those values \n",
    "into integer format \n",
    "\n",
    "'''\n",
    "def check_int(func):\n",
    "    def inner(*args, **kwargs):\n",
    "        val = func(*args, **kwargs)\n",
    "        flag = 0\n",
    "        i = 0\n",
    "        try:\n",
    "            while val[i] != None :\n",
    "                try:\n",
    "                    val[i] = int(val[i])\n",
    "                except:\n",
    "                    print(\"Give integer as an input\")\n",
    "                    flag = 1\n",
    "                    break\n",
    "                i += 1\n",
    "            if flag == 1:\n",
    "                return inner(*args, **kwargs)\n",
    "        except :\n",
    "            return val\n",
    "    return inner      \n",
    "        \n",
    "\n",
    "@check_int\n",
    "def input_val():\n",
    "    hours = input(\"Enter the no of hours: \")\n",
    "    rate = input(\"Enter the hourly rate: \")\n",
    "    return [hours, rate]\n",
    "\n",
    "\n",
    "def emp_salary():\n",
    "    [hour, rate] = input_val()\n",
    "    if hour > 40:\n",
    "        rate *= 1.5\n",
    "    amount = hour*rate #amount to be paid to the employee\n",
    "    return amount\n",
    "\n",
    "if __name__ == \"__main__\":\n",
    "    salary = emp_salary()\n",
    "    print(f\"salary :{salary}\")"
   ]
  },
  {
   "cell_type": "code",
   "execution_count": 10,
   "id": "0a730252",
   "metadata": {},
   "outputs": [],
   "source": []
  },
  {
   "cell_type": "code",
   "execution_count": null,
   "id": "c42dce3e",
   "metadata": {},
   "outputs": [],
   "source": []
  },
  {
   "cell_type": "code",
   "execution_count": null,
   "id": "df0fe291",
   "metadata": {},
   "outputs": [],
   "source": []
  }
 ],
 "metadata": {
  "kernelspec": {
   "display_name": "Python 3 (ipykernel)",
   "language": "python",
   "name": "python3"
  },
  "language_info": {
   "codemirror_mode": {
    "name": "ipython",
    "version": 3
   },
   "file_extension": ".py",
   "mimetype": "text/x-python",
   "name": "python",
   "nbconvert_exporter": "python",
   "pygments_lexer": "ipython3",
   "version": "3.9.12"
  }
 },
 "nbformat": 4,
 "nbformat_minor": 5
}
