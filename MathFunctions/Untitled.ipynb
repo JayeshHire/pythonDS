{
 "cells": [
  {
   "cell_type": "markdown",
   "id": "3adfc533",
   "metadata": {},
   "source": [
    "# Microcontroller calculator program"
   ]
  },
  {
   "cell_type": "markdown",
   "id": "95262451",
   "metadata": {},
   "source": [
    "## Calculator for decimal to hex conversion"
   ]
  },
  {
   "cell_type": "code",
   "execution_count": null,
   "id": "4489ddcb",
   "metadata": {},
   "outputs": [],
   "source": [
    "\n",
    "\n",
    "def main(func):\n",
    "    hex_val = ['0','1','2','3','4','5','6','7','8','9','A','B','C','D','E','F']\n",
    "    def inner(a):\n",
    "        hex_in_dec = func(a)\n",
    "        hex_final = ''\n",
    "        for i in hex_in_dec:\n",
    "            hex_final += hex_val[int(i)]\n",
    "        return hex_final\n",
    "    return inner\n",
    "\n",
    "@main\n",
    "def dec2hex(a):\n",
    "        divisor = a\n",
    "        rem = -1\n",
    "        hex_no = list()\n",
    "        while(divisor != 0):\n",
    "            rem = divisor%16\n",
    "            divisor -= rem\n",
    "            divisor /= 16\n",
    "            hex_no.insert(0,rem)\n",
    "        return hex_no\n",
    "\n",
    "\n",
    "def checksum(func):\n",
    "    hex_val = ['0','1','2','3','4','5','6','7','8','9','A','B','C','D','E','F']\n",
    "    def inner(a):\n",
    "        hex_no = func(a)\n",
    "        \n",
    "        \n",
    "\n",
    "def hexsum(a):\n",
    "    sum = 0\n",
    "    ln_seq_byte = len(a)\n",
    "    for i in a:\n",
    "        sum += i\n",
    "    \n",
    "    #sum = ~sum + 1\n",
    "    return dec2hex(sum)[1:3]\n",
    "\n",
    "if __name__==\"__main__\" :\n",
    "    arr = [0x35, 0xAD, 0x5B, 0x21, 0xC2]\n",
    "    print(checksum(arr))"
   ]
  },
  {
   "cell_type": "markdown",
   "id": "312fbca5",
   "metadata": {},
   "source": [
    "## Checksum calculator program"
   ]
  },
  {
   "cell_type": "code",
   "execution_count": null,
   "id": "d1b86563",
   "metadata": {},
   "outputs": [],
   "source": [
    "\n",
    "def checksum(func):\n",
    "    hex_val = ['0','1','2','3','4','5','6','7','8','9','A','B','C','D','E','F']\n",
    "    def inner(a):\n",
    "        hex_no = func(a) #func is hexsum\n",
    "        return comp2(hex_no)\n",
    "    \n",
    "    def comp1(hex_no):\n",
    "        c1 = ''\n",
    "        for i in hex_no:\n",
    "            ind = hex_val.index(i)\n",
    "            ind = 15 - ind\n",
    "            c1 += hex_val[ind]\n",
    "        return c1\n",
    "    \n",
    "    \n",
    "    def fcheck(a):\n",
    "        c2 = ''\n",
    "        if hex_val.index(a[-1]) == 15:\n",
    "            c2 += '0'\n",
    "        ind = hex_val.index(a[-2])\n",
    "        c2.index(0, hex_val[ind + 1])\n",
    "        return c2    \n",
    "                \n",
    "    def comp2(hex_no):\n",
    "        comp_1 = comp1(hex_no)\n",
    "        return fcheck(comp_1)\n",
    "    return inner\n",
    "        \n",
    "def hexsum(a):\n",
    "    sum = 0\n",
    "    for i in a:\n",
    "        sum += i\n",
    "    \n",
    "    #sum = ~sum + 1\n",
    "    return dec2hex(sum)[1:3]\n",
    "\n",
    "if __name__==\"__main__\" :\n",
    "    arr = [0x35, 0xAD, 0x5B, 0x21, 0xC2]\n",
    "    print(checksum(arr))"
   ]
  },
  {
   "cell_type": "code",
   "execution_count": null,
   "id": "3809036e",
   "metadata": {},
   "outputs": [],
   "source": [
    "\n"
   ]
  },
  {
   "cell_type": "code",
   "execution_count": null,
   "id": "b88a2c51",
   "metadata": {},
   "outputs": [],
   "source": []
  }
 ],
 "metadata": {
  "kernelspec": {
   "display_name": "Python 3 (ipykernel)",
   "language": "python",
   "name": "python3"
  },
  "language_info": {
   "codemirror_mode": {
    "name": "ipython",
    "version": 3
   },
   "file_extension": ".py",
   "mimetype": "text/x-python",
   "name": "python",
   "nbconvert_exporter": "python",
   "pygments_lexer": "ipython3",
   "version": "3.9.12"
  }
 },
 "nbformat": 4,
 "nbformat_minor": 5
}
