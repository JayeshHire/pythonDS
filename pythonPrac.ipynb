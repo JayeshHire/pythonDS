{
  "nbformat": 4,
  "nbformat_minor": 0,
  "metadata": {
    "colab": {
      "provenance": [],
      "authorship_tag": "ABX9TyNMvKUkNKXSdBrUBcRlvq64",
      "include_colab_link": true
    },
    "kernelspec": {
      "name": "python3",
      "display_name": "Python 3"
    },
    "language_info": {
      "name": "python"
    }
  },
  "cells": [
    {
      "cell_type": "markdown",
      "metadata": {
        "id": "view-in-github",
        "colab_type": "text"
      },
      "source": [
        "<a href=\"https://colab.research.google.com/github/JayeshHire/pythonDS/blob/main/pythonPrac.ipynb\" target=\"_parent\"><img src=\"https://colab.research.google.com/assets/colab-badge.svg\" alt=\"Open In Colab\"/></a>"
      ]
    },
    {
      "cell_type": "code",
      "execution_count": null,
      "metadata": {
        "id": "TEi2UpWFiqrt"
      },
      "outputs": [],
      "source": [
        "x = lambda x : x*x\n"
      ]
    },
    {
      "cell_type": "code",
      "source": [
        "x(2)"
      ],
      "metadata": {
        "colab": {
          "base_uri": "https://localhost:8080/"
        },
        "id": "t3NfyKI5i3T4",
        "outputId": "0189e1a2-24c0-4558-8030-6b0acd031870"
      },
      "execution_count": null,
      "outputs": [
        {
          "output_type": "execute_result",
          "data": {
            "text/plain": [
              "4"
            ]
          },
          "metadata": {},
          "execution_count": 2
        }
      ]
    },
    {
      "cell_type": "code",
      "source": [
        "x(9)"
      ],
      "metadata": {
        "colab": {
          "base_uri": "https://localhost:8080/"
        },
        "id": "EicoGrumi5ph",
        "outputId": "8f5b6e82-86d1-4340-a051-96601f430688"
      },
      "execution_count": null,
      "outputs": [
        {
          "output_type": "execute_result",
          "data": {
            "text/plain": [
              "81"
            ]
          },
          "metadata": {},
          "execution_count": 3
        }
      ]
    },
    {
      "cell_type": "code",
      "source": [
        "y = lambda c , d: c+d*c"
      ],
      "metadata": {
        "id": "PcNTRK9Ni_Lk"
      },
      "execution_count": null,
      "outputs": []
    },
    {
      "cell_type": "code",
      "source": [
        "y(2,3)"
      ],
      "metadata": {
        "colab": {
          "base_uri": "https://localhost:8080/"
        },
        "id": "sDZrVZqnjGiZ",
        "outputId": "1d367e51-0c45-4f64-9e01-f7a6fd19b83d"
      },
      "execution_count": null,
      "outputs": [
        {
          "output_type": "execute_result",
          "data": {
            "text/plain": [
              "8"
            ]
          },
          "metadata": {},
          "execution_count": 5
        }
      ]
    },
    {
      "cell_type": "code",
      "source": [
        "s = \"how are u guys\""
      ],
      "metadata": {
        "id": "x_HzH607jIja"
      },
      "execution_count": null,
      "outputs": []
    },
    {
      "cell_type": "code",
      "source": [
        "s[0] , s[-2] , s[1:4] , s[-1:-3]"
      ],
      "metadata": {
        "colab": {
          "base_uri": "https://localhost:8080/"
        },
        "id": "GwrGxGA_kOgU",
        "outputId": "0bd1aaa8-4852-48b0-f407-92b1403917fc"
      },
      "execution_count": null,
      "outputs": [
        {
          "output_type": "execute_result",
          "data": {
            "text/plain": [
              "('h', 'y', 'ow ', '')"
            ]
          },
          "metadata": {},
          "execution_count": 7
        }
      ]
    },
    {
      "cell_type": "code",
      "source": [
        "s[-3:-1]"
      ],
      "metadata": {
        "colab": {
          "base_uri": "https://localhost:8080/",
          "height": 36
        },
        "id": "MDXpfEZ_kZV3",
        "outputId": "6dfe27d2-accc-4eb1-8719-e3ed53c3fe18"
      },
      "execution_count": null,
      "outputs": [
        {
          "output_type": "execute_result",
          "data": {
            "text/plain": [
              "'uy'"
            ],
            "application/vnd.google.colaboratory.intrinsic+json": {
              "type": "string"
            }
          },
          "metadata": {},
          "execution_count": 8
        }
      ]
    },
    {
      "cell_type": "code",
      "source": [
        "y = s.split()"
      ],
      "metadata": {
        "id": "1j8XmgNZkiVm"
      },
      "execution_count": null,
      "outputs": []
    },
    {
      "cell_type": "code",
      "source": [
        "y[1] , y[0] , y[-1]"
      ],
      "metadata": {
        "colab": {
          "base_uri": "https://localhost:8080/"
        },
        "id": "qfPONUqEknn3",
        "outputId": "eed9505e-f265-4957-e25d-be4f7f33cef4"
      },
      "execution_count": null,
      "outputs": [
        {
          "output_type": "execute_result",
          "data": {
            "text/plain": [
              "('are', 'how', 'guys')"
            ]
          },
          "metadata": {},
          "execution_count": 10
        }
      ]
    },
    {
      "cell_type": "code",
      "source": [
        "a = ' '.join(y)"
      ],
      "metadata": {
        "id": "NikqcplLkrtK"
      },
      "execution_count": null,
      "outputs": []
    },
    {
      "cell_type": "code",
      "source": [
        "print(len(a))"
      ],
      "metadata": {
        "colab": {
          "base_uri": "https://localhost:8080/"
        },
        "id": "BouX0d6zkvjC",
        "outputId": "dc6d4cea-d8df-44e1-e2b2-6eff6d07108e"
      },
      "execution_count": null,
      "outputs": [
        {
          "output_type": "stream",
          "name": "stdout",
          "text": [
            "14\n"
          ]
        }
      ]
    },
    {
      "cell_type": "code",
      "source": [
        "a.find(\"uys\")"
      ],
      "metadata": {
        "colab": {
          "base_uri": "https://localhost:8080/"
        },
        "id": "rzJY8Nz6lVb3",
        "outputId": "cd24254c-9520-4925-df97-d016c57edbf3"
      },
      "execution_count": null,
      "outputs": [
        {
          "output_type": "execute_result",
          "data": {
            "text/plain": [
              "11"
            ]
          },
          "metadata": {},
          "execution_count": 17
        }
      ]
    },
    {
      "cell_type": "code",
      "source": [
        "a.replace(\"how\",\"You\")"
      ],
      "metadata": {
        "colab": {
          "base_uri": "https://localhost:8080/",
          "height": 36
        },
        "id": "rHJb43pvljKy",
        "outputId": "f988fb43-8a2b-4da9-84b4-05a29152b361"
      },
      "execution_count": null,
      "outputs": [
        {
          "output_type": "execute_result",
          "data": {
            "text/plain": [
              "'You are u guys'"
            ],
            "application/vnd.google.colaboratory.intrinsic+json": {
              "type": "string"
            }
          },
          "metadata": {},
          "execution_count": 18
        }
      ]
    },
    {
      "cell_type": "code",
      "source": [
        "a.upper()"
      ],
      "metadata": {
        "colab": {
          "base_uri": "https://localhost:8080/",
          "height": 36
        },
        "id": "sPRR29_mlsax",
        "outputId": "d1443d51-c98d-4928-c491-5dd2c94aa5d1"
      },
      "execution_count": null,
      "outputs": [
        {
          "output_type": "execute_result",
          "data": {
            "text/plain": [
              "'HOW ARE U GUYS'"
            ],
            "application/vnd.google.colaboratory.intrinsic+json": {
              "type": "string"
            }
          },
          "metadata": {},
          "execution_count": 19
        }
      ]
    },
    {
      "cell_type": "code",
      "source": [
        "a.lower()"
      ],
      "metadata": {
        "colab": {
          "base_uri": "https://localhost:8080/",
          "height": 36
        },
        "id": "ra6LixXJlueg",
        "outputId": "d4325b40-2cec-44a7-b20d-d755cfa7b97a"
      },
      "execution_count": null,
      "outputs": [
        {
          "output_type": "execute_result",
          "data": {
            "text/plain": [
              "'how are u guys'"
            ],
            "application/vnd.google.colaboratory.intrinsic+json": {
              "type": "string"
            }
          },
          "metadata": {},
          "execution_count": 20
        }
      ]
    },
    {
      "cell_type": "code",
      "source": [
        "a.startswith(\"how\")"
      ],
      "metadata": {
        "colab": {
          "base_uri": "https://localhost:8080/"
        },
        "id": "xnZVBlTqlwXH",
        "outputId": "9e182d47-8ef7-42ee-f1ac-60d0419e4f42"
      },
      "execution_count": null,
      "outputs": [
        {
          "output_type": "execute_result",
          "data": {
            "text/plain": [
              "True"
            ]
          },
          "metadata": {},
          "execution_count": 21
        }
      ]
    },
    {
      "cell_type": "code",
      "source": [
        "a.endswith(\"guys\")"
      ],
      "metadata": {
        "colab": {
          "base_uri": "https://localhost:8080/"
        },
        "id": "9SEPMZP2l1cL",
        "outputId": "768c223d-7fa2-495f-ca66-2e3f81052667"
      },
      "execution_count": null,
      "outputs": [
        {
          "output_type": "execute_result",
          "data": {
            "text/plain": [
              "True"
            ]
          },
          "metadata": {},
          "execution_count": 22
        }
      ]
    },
    {
      "cell_type": "code",
      "source": [
        "d = [x*y for x in range(3) for y in range(3) if x > y ]"
      ],
      "metadata": {
        "id": "TpztTG8Hl40z"
      },
      "execution_count": null,
      "outputs": []
    },
    {
      "cell_type": "code",
      "source": [
        "d"
      ],
      "metadata": {
        "colab": {
          "base_uri": "https://localhost:8080/"
        },
        "id": "E_5V-hFtm8a1",
        "outputId": "136957af-217b-4c1d-e396-2b4c5cb80309"
      },
      "execution_count": null,
      "outputs": [
        {
          "output_type": "execute_result",
          "data": {
            "text/plain": [
              "[0, 0, 2]"
            ]
          },
          "metadata": {},
          "execution_count": 26
        }
      ]
    },
    {
      "cell_type": "code",
      "source": [
        "class commodity :\n",
        "  def __init__(self , name= None  , weight = None, color = \"white\"):\n",
        "    self.name = name \n",
        "    self.color = color \n",
        "    self.weight = weight\n",
        "    self.stateVariable = 'new'\n",
        "\n",
        "  def state(self , stateVariable):\n",
        "    self.stateVariable = stateVariable\n",
        "    print(f\"We have a {self.name} which is {self.stateVariable}\")\n",
        "\n",
        "  def checkState(self):\n",
        "    print(f\"{self.name} is {self.stateVariable}\")\n",
        "\n",
        "  def Setowner(self , owName):\n",
        "    self.owName = owName \n",
        "  \n",
        "  def CallOwner(self ):\n",
        "    print(self.owName)\n"
      ],
      "metadata": {
        "id": "wmXuyildm9PN"
      },
      "execution_count": null,
      "outputs": []
    },
    {
      "cell_type": "code",
      "source": [
        "belt = commodity(\"belt\", \"20gm\")"
      ],
      "metadata": {
        "id": "SHzhX4bWovAw"
      },
      "execution_count": null,
      "outputs": []
    },
    {
      "cell_type": "code",
      "source": [
        "belt.Setowner(\"Jay\")"
      ],
      "metadata": {
        "id": "hNLT9x8LpCxu"
      },
      "execution_count": null,
      "outputs": []
    },
    {
      "cell_type": "code",
      "source": [
        "belt.checkState()"
      ],
      "metadata": {
        "colab": {
          "base_uri": "https://localhost:8080/"
        },
        "id": "MM7OgoUOpG82",
        "outputId": "f6e29a8d-b98c-4f2d-b19b-9a1c43f22f9d"
      },
      "execution_count": null,
      "outputs": [
        {
          "output_type": "stream",
          "name": "stdout",
          "text": [
            "belt is new\n"
          ]
        }
      ]
    },
    {
      "cell_type": "code",
      "source": [
        "belt.CallOwner()"
      ],
      "metadata": {
        "colab": {
          "base_uri": "https://localhost:8080/"
        },
        "id": "k0lVspRHpbQl",
        "outputId": "de6199a0-722e-4222-ba0e-4cdaa44e6158"
      },
      "execution_count": null,
      "outputs": [
        {
          "output_type": "stream",
          "name": "stdout",
          "text": [
            "Jay\n"
          ]
        }
      ]
    },
    {
      "cell_type": "markdown",
      "source": [
        "mapping function in python\n",
        "map(function_object , iterable)\n",
        ".iterable can be a list\n",
        ".Syntax2 : - map(function_object , I1 , I2 ,....Ik)\n",
        "It takes all k iterables\n"
      ],
      "metadata": {
        "id": "7JvRGInasrUv"
      }
    },
    {
      "cell_type": "code",
      "source": [
        "def sum(x ):\n",
        "  total = 0\n",
        "  for i in x :\n",
        "    total += int(i)\n",
        "  return total"
      ],
      "metadata": {
        "id": "NWrnugYLpjNu"
      },
      "execution_count": null,
      "outputs": []
    },
    {
      "cell_type": "code",
      "source": [
        "sum(\"123\")"
      ],
      "metadata": {
        "colab": {
          "base_uri": "https://localhost:8080/"
        },
        "id": "RJrIkGi3rVYF",
        "outputId": "41102aff-3cf7-4a86-a3ae-ca2214b345bf"
      },
      "execution_count": null,
      "outputs": [
        {
          "output_type": "execute_result",
          "data": {
            "text/plain": [
              "6"
            ]
          },
          "metadata": {},
          "execution_count": 38
        }
      ]
    },
    {
      "cell_type": "code",
      "source": [
        "list(map(sum , ['123' , '875' , '0987','121']))"
      ],
      "metadata": {
        "colab": {
          "base_uri": "https://localhost:8080/"
        },
        "id": "L8sczpb1rZhR",
        "outputId": "827a2b98-a1df-49fc-f48c-8ffabb4ca80c"
      },
      "execution_count": null,
      "outputs": [
        {
          "output_type": "execute_result",
          "data": {
            "text/plain": [
              "[6, 20, 24, 4]"
            ]
          },
          "metadata": {},
          "execution_count": 40
        }
      ]
    },
    {
      "cell_type": "code",
      "source": [
        "def club (x ,y):\n",
        "  return y[x]"
      ],
      "metadata": {
        "id": "yYR3SQodrrb_"
      },
      "execution_count": null,
      "outputs": []
    },
    {
      "cell_type": "code",
      "source": [
        "list(map(club , [0,1,2,3],['jay','sahil','mayank','gaurav']))"
      ],
      "metadata": {
        "colab": {
          "base_uri": "https://localhost:8080/"
        },
        "id": "jEtV9qawsRbE",
        "outputId": "2454f792-bf89-48dd-f735-4e7734f85cbc"
      },
      "execution_count": null,
      "outputs": [
        {
          "output_type": "execute_result",
          "data": {
            "text/plain": [
              "['j', 'a', 'y', 'r']"
            ]
          },
          "metadata": {},
          "execution_count": 42
        }
      ]
    },
    {
      "cell_type": "code",
      "source": [
        "'Hare'.join(['Hare Krishna ',  ' Ram'])"
      ],
      "metadata": {
        "colab": {
          "base_uri": "https://localhost:8080/",
          "height": 36
        },
        "id": "rn8_-Bm-sdpA",
        "outputId": "1ac6b0b3-609b-401c-a462-9e88ee68185e"
      },
      "execution_count": null,
      "outputs": [
        {
          "output_type": "execute_result",
          "data": {
            "text/plain": [
              "'Hare Krishna Hare Ram'"
            ],
            "application/vnd.google.colaboratory.intrinsic+json": {
              "type": "string"
            }
          },
          "metadata": {},
          "execution_count": 46
        }
      ]
    },
    {
      "cell_type": "code",
      "source": [],
      "metadata": {
        "id": "t3pV2z3ktnQm"
      },
      "execution_count": null,
      "outputs": []
    }
  ]
}