{
 "cells": [
  {
   "cell_type": "markdown",
   "metadata": {
    "colab_type": "text",
    "id": "view-in-github"
   },
   "source": [
    "<a href=\"https://colab.research.google.com/github/JayeshHire/pythonDS/blob/main/pythonPrac.ipynb\" target=\"_parent\"><img src=\"https://colab.research.google.com/assets/colab-badge.svg\" alt=\"Open In Colab\"/></a>"
   ]
  },
  {
   "cell_type": "code",
   "execution_count": null,
   "metadata": {
    "id": "TEi2UpWFiqrt"
   },
   "outputs": [],
   "source": [
    "x = lambda x : x*x\n"
   ]
  },
  {
   "cell_type": "code",
   "execution_count": null,
   "metadata": {
    "colab": {
     "base_uri": "https://localhost:8080/"
    },
    "id": "t3NfyKI5i3T4",
    "outputId": "0189e1a2-24c0-4558-8030-6b0acd031870"
   },
   "outputs": [
    {
     "data": {
      "text/plain": [
       "4"
      ]
     },
     "execution_count": 2,
     "metadata": {},
     "output_type": "execute_result"
    }
   ],
   "source": [
    "x(2)"
   ]
  },
  {
   "cell_type": "code",
   "execution_count": null,
   "metadata": {
    "colab": {
     "base_uri": "https://localhost:8080/"
    },
    "id": "EicoGrumi5ph",
    "outputId": "8f5b6e82-86d1-4340-a051-96601f430688"
   },
   "outputs": [
    {
     "data": {
      "text/plain": [
       "81"
      ]
     },
     "execution_count": 3,
     "metadata": {},
     "output_type": "execute_result"
    }
   ],
   "source": [
    "x(9)"
   ]
  },
  {
   "cell_type": "code",
   "execution_count": 1,
   "metadata": {
    "id": "PcNTRK9Ni_Lk"
   },
   "outputs": [],
   "source": [
    "y = lambda c , e, d: c+d*c+e"
   ]
  },
  {
   "cell_type": "code",
   "execution_count": 2,
   "metadata": {
    "colab": {
     "base_uri": "https://localhost:8080/"
    },
    "id": "sDZrVZqnjGiZ",
    "outputId": "1d367e51-0c45-4f64-9e01-f7a6fd19b83d"
   },
   "outputs": [
    {
     "data": {
      "text/plain": [
       "13"
      ]
     },
     "execution_count": 2,
     "metadata": {},
     "output_type": "execute_result"
    }
   ],
   "source": [
    "y(2,3,4)"
   ]
  },
  {
   "cell_type": "code",
   "execution_count": null,
   "metadata": {
    "id": "x_HzH607jIja"
   },
   "outputs": [],
   "source": [
    "s = \"how are u guys\""
   ]
  },
  {
   "cell_type": "code",
   "execution_count": null,
   "metadata": {
    "colab": {
     "base_uri": "https://localhost:8080/"
    },
    "id": "GwrGxGA_kOgU",
    "outputId": "0bd1aaa8-4852-48b0-f407-92b1403917fc"
   },
   "outputs": [
    {
     "data": {
      "text/plain": [
       "('h', 'y', 'ow ', '')"
      ]
     },
     "execution_count": 7,
     "metadata": {},
     "output_type": "execute_result"
    }
   ],
   "source": [
    "s[0] , s[-2] , s[1:4] , s[-1:-3]"
   ]
  },
  {
   "cell_type": "code",
   "execution_count": null,
   "metadata": {
    "colab": {
     "base_uri": "https://localhost:8080/",
     "height": 36
    },
    "id": "MDXpfEZ_kZV3",
    "outputId": "6dfe27d2-accc-4eb1-8719-e3ed53c3fe18"
   },
   "outputs": [
    {
     "data": {
      "application/vnd.google.colaboratory.intrinsic+json": {
       "type": "string"
      },
      "text/plain": [
       "'uy'"
      ]
     },
     "execution_count": 8,
     "metadata": {},
     "output_type": "execute_result"
    }
   ],
   "source": [
    "s[-3:-1]"
   ]
  },
  {
   "cell_type": "code",
   "execution_count": null,
   "metadata": {
    "id": "1j8XmgNZkiVm"
   },
   "outputs": [],
   "source": [
    "y = s.split()"
   ]
  },
  {
   "cell_type": "code",
   "execution_count": null,
   "metadata": {
    "colab": {
     "base_uri": "https://localhost:8080/"
    },
    "id": "qfPONUqEknn3",
    "outputId": "eed9505e-f265-4957-e25d-be4f7f33cef4"
   },
   "outputs": [
    {
     "data": {
      "text/plain": [
       "('are', 'how', 'guys')"
      ]
     },
     "execution_count": 10,
     "metadata": {},
     "output_type": "execute_result"
    }
   ],
   "source": [
    "y[1] , y[0] , y[-1]"
   ]
  },
  {
   "cell_type": "code",
   "execution_count": null,
   "metadata": {
    "id": "NikqcplLkrtK"
   },
   "outputs": [],
   "source": [
    "a = ' '.join(y)"
   ]
  },
  {
   "cell_type": "code",
   "execution_count": null,
   "metadata": {
    "colab": {
     "base_uri": "https://localhost:8080/"
    },
    "id": "BouX0d6zkvjC",
    "outputId": "dc6d4cea-d8df-44e1-e2b2-6eff6d07108e"
   },
   "outputs": [
    {
     "name": "stdout",
     "output_type": "stream",
     "text": [
      "14\n"
     ]
    }
   ],
   "source": [
    "print(len(a))"
   ]
  },
  {
   "cell_type": "code",
   "execution_count": null,
   "metadata": {
    "colab": {
     "base_uri": "https://localhost:8080/"
    },
    "id": "rzJY8Nz6lVb3",
    "outputId": "cd24254c-9520-4925-df97-d016c57edbf3"
   },
   "outputs": [
    {
     "data": {
      "text/plain": [
       "11"
      ]
     },
     "execution_count": 17,
     "metadata": {},
     "output_type": "execute_result"
    }
   ],
   "source": [
    "a.find(\"uys\")"
   ]
  },
  {
   "cell_type": "code",
   "execution_count": null,
   "metadata": {
    "colab": {
     "base_uri": "https://localhost:8080/",
     "height": 36
    },
    "id": "rHJb43pvljKy",
    "outputId": "f988fb43-8a2b-4da9-84b4-05a29152b361"
   },
   "outputs": [
    {
     "data": {
      "application/vnd.google.colaboratory.intrinsic+json": {
       "type": "string"
      },
      "text/plain": [
       "'You are u guys'"
      ]
     },
     "execution_count": 18,
     "metadata": {},
     "output_type": "execute_result"
    }
   ],
   "source": [
    "a.replace(\"how\",\"You\")"
   ]
  },
  {
   "cell_type": "code",
   "execution_count": null,
   "metadata": {
    "colab": {
     "base_uri": "https://localhost:8080/",
     "height": 36
    },
    "id": "sPRR29_mlsax",
    "outputId": "d1443d51-c98d-4928-c491-5dd2c94aa5d1"
   },
   "outputs": [
    {
     "data": {
      "application/vnd.google.colaboratory.intrinsic+json": {
       "type": "string"
      },
      "text/plain": [
       "'HOW ARE U GUYS'"
      ]
     },
     "execution_count": 19,
     "metadata": {},
     "output_type": "execute_result"
    }
   ],
   "source": [
    "a.upper()"
   ]
  },
  {
   "cell_type": "code",
   "execution_count": null,
   "metadata": {
    "colab": {
     "base_uri": "https://localhost:8080/",
     "height": 36
    },
    "id": "ra6LixXJlueg",
    "outputId": "d4325b40-2cec-44a7-b20d-d755cfa7b97a"
   },
   "outputs": [
    {
     "data": {
      "application/vnd.google.colaboratory.intrinsic+json": {
       "type": "string"
      },
      "text/plain": [
       "'how are u guys'"
      ]
     },
     "execution_count": 20,
     "metadata": {},
     "output_type": "execute_result"
    }
   ],
   "source": [
    "a.lower()"
   ]
  },
  {
   "cell_type": "code",
   "execution_count": null,
   "metadata": {
    "colab": {
     "base_uri": "https://localhost:8080/"
    },
    "id": "xnZVBlTqlwXH",
    "outputId": "9e182d47-8ef7-42ee-f1ac-60d0419e4f42"
   },
   "outputs": [
    {
     "data": {
      "text/plain": [
       "True"
      ]
     },
     "execution_count": 21,
     "metadata": {},
     "output_type": "execute_result"
    }
   ],
   "source": [
    "a.startswith(\"how\")"
   ]
  },
  {
   "cell_type": "code",
   "execution_count": null,
   "metadata": {
    "colab": {
     "base_uri": "https://localhost:8080/"
    },
    "id": "9SEPMZP2l1cL",
    "outputId": "768c223d-7fa2-495f-ca66-2e3f81052667"
   },
   "outputs": [
    {
     "data": {
      "text/plain": [
       "True"
      ]
     },
     "execution_count": 22,
     "metadata": {},
     "output_type": "execute_result"
    }
   ],
   "source": [
    "a.endswith(\"guys\")"
   ]
  },
  {
   "cell_type": "code",
   "execution_count": null,
   "metadata": {
    "id": "TpztTG8Hl40z"
   },
   "outputs": [],
   "source": [
    "d = [x*y for x in range(3) for y in range(3) if x > y ]"
   ]
  },
  {
   "cell_type": "code",
   "execution_count": null,
   "metadata": {
    "colab": {
     "base_uri": "https://localhost:8080/"
    },
    "id": "E_5V-hFtm8a1",
    "outputId": "136957af-217b-4c1d-e396-2b4c5cb80309"
   },
   "outputs": [
    {
     "data": {
      "text/plain": [
       "[0, 0, 2]"
      ]
     },
     "execution_count": 26,
     "metadata": {},
     "output_type": "execute_result"
    }
   ],
   "source": [
    "d"
   ]
  },
  {
   "cell_type": "code",
   "execution_count": null,
   "metadata": {
    "id": "wmXuyildm9PN"
   },
   "outputs": [],
   "source": [
    "class commodity :\n",
    "  def __init__(self , name= None  , weight = None, color = \"white\"):\n",
    "    self.name = name \n",
    "    self.color = color \n",
    "    self.weight = weight\n",
    "    self.stateVariable = 'new'\n",
    "\n",
    "  def state(self , stateVariable):\n",
    "    self.stateVariable = stateVariable\n",
    "    print(f\"We have a {self.name} which is {self.stateVariable}\")\n",
    "\n",
    "  def checkState(self):\n",
    "    print(f\"{self.name} is {self.stateVariable}\")\n",
    "\n",
    "  def Setowner(self , owName):\n",
    "    self.owName = owName \n",
    "  \n",
    "  def CallOwner(self ):\n",
    "    print(self.owName)\n"
   ]
  },
  {
   "cell_type": "code",
   "execution_count": null,
   "metadata": {
    "id": "SHzhX4bWovAw"
   },
   "outputs": [],
   "source": [
    "belt = commodity(\"belt\", \"20gm\")"
   ]
  },
  {
   "cell_type": "code",
   "execution_count": null,
   "metadata": {
    "id": "hNLT9x8LpCxu"
   },
   "outputs": [],
   "source": [
    "belt.Setowner(\"Jay\")"
   ]
  },
  {
   "cell_type": "code",
   "execution_count": null,
   "metadata": {
    "colab": {
     "base_uri": "https://localhost:8080/"
    },
    "id": "MM7OgoUOpG82",
    "outputId": "f6e29a8d-b98c-4f2d-b19b-9a1c43f22f9d"
   },
   "outputs": [
    {
     "name": "stdout",
     "output_type": "stream",
     "text": [
      "belt is new\n"
     ]
    }
   ],
   "source": [
    "belt.checkState()"
   ]
  },
  {
   "cell_type": "code",
   "execution_count": null,
   "metadata": {
    "colab": {
     "base_uri": "https://localhost:8080/"
    },
    "id": "k0lVspRHpbQl",
    "outputId": "de6199a0-722e-4222-ba0e-4cdaa44e6158"
   },
   "outputs": [
    {
     "name": "stdout",
     "output_type": "stream",
     "text": [
      "Jay\n"
     ]
    }
   ],
   "source": [
    "belt.CallOwner()"
   ]
  },
  {
   "cell_type": "markdown",
   "metadata": {
    "id": "7JvRGInasrUv"
   },
   "source": [
    "mapping function in python\n",
    "map(function_object , iterable)\n",
    ".iterable can be a list\n",
    ".Syntax2 : - map(function_object , I1 , I2 ,....Ik)\n",
    "It takes all k iterables\n"
   ]
  },
  {
   "cell_type": "code",
   "execution_count": null,
   "metadata": {
    "id": "NWrnugYLpjNu"
   },
   "outputs": [],
   "source": [
    "def sum(x ):\n",
    "  total = 0\n",
    "  for i in x :\n",
    "    total += int(i)\n",
    "  return total"
   ]
  },
  {
   "cell_type": "code",
   "execution_count": null,
   "metadata": {
    "colab": {
     "base_uri": "https://localhost:8080/"
    },
    "id": "RJrIkGi3rVYF",
    "outputId": "41102aff-3cf7-4a86-a3ae-ca2214b345bf"
   },
   "outputs": [
    {
     "data": {
      "text/plain": [
       "6"
      ]
     },
     "execution_count": 38,
     "metadata": {},
     "output_type": "execute_result"
    }
   ],
   "source": [
    "sum(\"123\")"
   ]
  },
  {
   "cell_type": "code",
   "execution_count": null,
   "metadata": {
    "colab": {
     "base_uri": "https://localhost:8080/"
    },
    "id": "L8sczpb1rZhR",
    "outputId": "827a2b98-a1df-49fc-f48c-8ffabb4ca80c"
   },
   "outputs": [
    {
     "data": {
      "text/plain": [
       "[6, 20, 24, 4]"
      ]
     },
     "execution_count": 40,
     "metadata": {},
     "output_type": "execute_result"
    }
   ],
   "source": [
    "list(map(sum , ['123' , '875' , '0987','121']))"
   ]
  },
  {
   "cell_type": "code",
   "execution_count": null,
   "metadata": {
    "id": "yYR3SQodrrb_"
   },
   "outputs": [],
   "source": [
    "def club (x ,y):\n",
    "  return y[x]"
   ]
  },
  {
   "cell_type": "code",
   "execution_count": null,
   "metadata": {
    "colab": {
     "base_uri": "https://localhost:8080/"
    },
    "id": "jEtV9qawsRbE",
    "outputId": "2454f792-bf89-48dd-f735-4e7734f85cbc"
   },
   "outputs": [
    {
     "data": {
      "text/plain": [
       "['j', 'a', 'y', 'r']"
      ]
     },
     "execution_count": 42,
     "metadata": {},
     "output_type": "execute_result"
    }
   ],
   "source": [
    "list(map(club , [0,1,2,3],['jay','sahil','mayank','gaurav']))"
   ]
  },
  {
   "cell_type": "code",
   "execution_count": null,
   "metadata": {
    "colab": {
     "base_uri": "https://localhost:8080/",
     "height": 36
    },
    "id": "rn8_-Bm-sdpA",
    "outputId": "1ac6b0b3-609b-401c-a462-9e88ee68185e"
   },
   "outputs": [
    {
     "data": {
      "application/vnd.google.colaboratory.intrinsic+json": {
       "type": "string"
      },
      "text/plain": [
       "'Hare Krishna Hare Ram'"
      ]
     },
     "execution_count": 46,
     "metadata": {},
     "output_type": "execute_result"
    }
   ],
   "source": [
    "'Hare'.join(['Hare Krishna ',  ' Ram'])"
   ]
  },
  {
   "cell_type": "code",
   "execution_count": 16,
   "metadata": {
    "id": "t3pV2z3ktnQm"
   },
   "outputs": [
    {
     "name": "stdout",
     "output_type": "stream",
     "text": [
      "Either you have passed parameters other than\n",
      "1. text\n",
      "2.msq\n",
      "3.mcq\n",
      "        -----OR-----\n",
      "Your parameter type is wrong\n",
      " It should be of type string.\n"
     ]
    },
    {
     "ename": "ValueError",
     "evalue": "",
     "output_type": "error",
     "traceback": [
      "\u001b[0;31m---------------------------------------------------------------------------\u001b[0m",
      "\u001b[0;31mValueError\u001b[0m                                Traceback (most recent call last)",
      "Cell \u001b[0;32mIn[16], line 29\u001b[0m\n\u001b[1;32m     26\u001b[0m     \u001b[38;5;28;01mdef\u001b[39;00m \u001b[38;5;21m__str__\u001b[39m(\u001b[38;5;28mself\u001b[39m):\n\u001b[1;32m     27\u001b[0m         \u001b[38;5;28;01mreturn\u001b[39;00m \u001b[38;5;28mself\u001b[39m\u001b[38;5;241m.\u001b[39mtype\n\u001b[0;32m---> 29\u001b[0m a \u001b[38;5;241m=\u001b[39m question_type(\u001b[38;5;124m'\u001b[39m\u001b[38;5;124mt\u001b[39m\u001b[38;5;124m'\u001b[39m)\n\u001b[1;32m     30\u001b[0m \u001b[38;5;28mstr\u001b[39m(a)\n",
      "Cell \u001b[0;32mIn[16], line 24\u001b[0m, in \u001b[0;36mquestion_type.__init__\u001b[0;34m(self, _type)\u001b[0m\n\u001b[1;32m     22\u001b[0m     \u001b[38;5;28mself\u001b[39m\u001b[38;5;241m.\u001b[39mobj \u001b[38;5;241m==\u001b[39m mcq()\n\u001b[1;32m     23\u001b[0m \u001b[38;5;28;01melse\u001b[39;00m :\n\u001b[0;32m---> 24\u001b[0m     raise_exe()\n",
      "Cell \u001b[0;32mIn[16], line 3\u001b[0m, in \u001b[0;36mraise_exe\u001b[0;34m()\u001b[0m\n\u001b[1;32m      1\u001b[0m \u001b[38;5;28;01mdef\u001b[39;00m \u001b[38;5;21mraise_exe\u001b[39m():\n\u001b[1;32m      2\u001b[0m     \u001b[38;5;28;01mtry\u001b[39;00m :\n\u001b[0;32m----> 3\u001b[0m         \u001b[38;5;28;01mraise\u001b[39;00m \u001b[38;5;167;01mValueError\u001b[39;00m\n\u001b[1;32m      4\u001b[0m     \u001b[38;5;28;01mfinally\u001b[39;00m:\n\u001b[1;32m      5\u001b[0m         \u001b[38;5;28mprint\u001b[39m(\u001b[38;5;124m\"\u001b[39m\u001b[38;5;124mEither you have passed parameters other than\u001b[39m\u001b[38;5;130;01m\\n\u001b[39;00m\u001b[38;5;124m1. text\u001b[39m\u001b[38;5;130;01m\\n\u001b[39;00m\u001b[38;5;124m2.msq\u001b[39m\u001b[38;5;130;01m\\n\u001b[39;00m\u001b[38;5;124m3.mcq\u001b[39m\u001b[38;5;130;01m\\n\u001b[39;00m\u001b[38;5;130;01m\\\u001b[39;00m\n\u001b[1;32m      6\u001b[0m \u001b[38;5;124m        -----OR-----\u001b[39m\u001b[38;5;130;01m\\n\u001b[39;00m\u001b[38;5;124mYour parameter type is wrong\u001b[39m\u001b[38;5;130;01m\\n\u001b[39;00m\u001b[38;5;124m It should be of type string.\u001b[39m\u001b[38;5;124m\"\u001b[39m)\n",
      "\u001b[0;31mValueError\u001b[0m: "
     ]
    }
   ],
   "source": [
    "def raise_exe():\n",
    "    try :\n",
    "        raise ValueError\n",
    "    finally:\n",
    "        print(\"Either you have passed parameters other than\\n1. text\\n2.msq\\n3.mcq\\n\\\n",
    "        -----OR-----\\nYour parameter type is wrong\\n It should be of type string.\")\n",
    "class text:\n",
    "        pass\n",
    "class msq:\n",
    "     pass\n",
    "class mcq:\n",
    "      pass        \n",
    "class question_type:\n",
    "    \n",
    "    def __init__(self, _type):\n",
    "        self.type = _type\n",
    "        if _type == 'text':\n",
    "            self.obj = text()\n",
    "        elif _type == 'msq':\n",
    "            self.obj = msq()\n",
    "        elif _type == 'mcq':\n",
    "            self.obj == mcq()\n",
    "        else :\n",
    "            raise_exe()\n",
    "    \n",
    "    def __str__(self):\n",
    "        return self.type\n",
    "    \n",
    "a = question_type('t')\n",
    "str(a)\n",
    "                "
   ]
  },
  {
   "cell_type": "code",
   "execution_count": 18,
   "metadata": {},
   "outputs": [
    {
     "name": "stdout",
     "output_type": "stream",
     "text": [
      "2\n",
      "(2, 3)\n",
      "(2, 3)\n"
     ]
    }
   ],
   "source": [
    "def f(*args):\n",
    "    print(args[0])\n",
    "    for i in args:\n",
    "        print(args)\n",
    "f(2,3)"
   ]
  }
 ],
 "metadata": {
  "colab": {
   "authorship_tag": "ABX9TyNMvKUkNKXSdBrUBcRlvq64",
   "include_colab_link": true,
   "provenance": []
  },
  "kernelspec": {
   "display_name": "Python 3 (ipykernel)",
   "language": "python",
   "name": "python3"
  },
  "language_info": {
   "codemirror_mode": {
    "name": "ipython",
    "version": 3
   },
   "file_extension": ".py",
   "mimetype": "text/x-python",
   "name": "python",
   "nbconvert_exporter": "python",
   "pygments_lexer": "ipython3",
   "version": "3.11.4"
  }
 },
 "nbformat": 4,
 "nbformat_minor": 1
}
